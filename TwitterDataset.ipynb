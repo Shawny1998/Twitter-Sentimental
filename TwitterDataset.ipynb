{
  "cells": [
    {
      "cell_type": "markdown",
      "metadata": {
        "id": "view-in-github",
        "colab_type": "text"
      },
      "source": [
        "<a href=\"https://colab.research.google.com/github/Shawny1998/Twitter-Sentimental/blob/main/TwitterDataset.ipynb\" target=\"_parent\"><img src=\"https://colab.research.google.com/assets/colab-badge.svg\" alt=\"Open In Colab\"/></a>"
      ]
    },
    {
      "cell_type": "code",
      "execution_count": 9,
      "metadata": {
        "id": "AJzbTU8L4Hsx",
        "colab": {
          "base_uri": "https://localhost:8080/"
        },
        "outputId": "e97ff77d-e4d4-4487-df18-1246e5715b09"
      },
      "outputs": [
        {
          "output_type": "stream",
          "name": "stdout",
          "text": [
            "Requirement already satisfied: pyspark in /usr/local/lib/python3.11/dist-packages (3.5.4)\n",
            "Requirement already satisfied: py4j in /usr/local/lib/python3.11/dist-packages (0.10.9.7)\n"
          ]
        }
      ],
      "source": [
        "!pip install pyspark py4j\n",
        "from pyspark.sql import SparkSession"
      ]
    },
    {
      "cell_type": "code",
      "execution_count": 10,
      "metadata": {
        "id": "Uk7UwOh2QD_q"
      },
      "outputs": [],
      "source": [
        "from pyspark.sql import SparkSession\n",
        "from pyspark.sql.functions import col, udf, regexp_replace, when\n",
        "from pyspark.sql.functions import *\n",
        "from pyspark.sql.types import StringType,IntegerType,FloatType,DoubleType, ArrayType\n",
        "from pyspark.ml.classification import LogisticRegression, NaiveBayes\n",
        "from pyspark.ml import Pipeline\n",
        "from pyspark.ml.evaluation import MulticlassClassificationEvaluator\n",
        "import re\n",
        "import matplotlib.pyplot as plt\n",
        "from pyspark.sql.functions import udf\n",
        "from pyspark.ml.linalg import VectorUDT\n",
        "from pyspark.ml.evaluation import BinaryClassificationEvaluator\n",
        "from pickle import FALSE"
      ]
    },
    {
      "cell_type": "markdown",
      "metadata": {
        "id": "V6mXGktpa-xz"
      },
      "source": [
        "Building a spark session"
      ]
    },
    {
      "cell_type": "code",
      "execution_count": 11,
      "metadata": {
        "id": "Bb254XooQHXw"
      },
      "outputs": [],
      "source": [
        "spark = SparkSession.builder \\\n",
        "    .appName(\"Twitter Sentiment Analysis\") \\\n",
        "    .getOrCreate()"
      ]
    },
    {
      "cell_type": "markdown",
      "metadata": {
        "id": "wiK-HaPYbFvT"
      },
      "source": [
        "Loading in the data and creating titles for each column"
      ]
    },
    {
      "cell_type": "code",
      "execution_count": 12,
      "metadata": {
        "id": "w52--A0OQTf0"
      },
      "outputs": [],
      "source": [
        "path = \"/content/training.1600000.processed.noemoticon.csv\"\n",
        "column_names = ['target', 'id', 'date', 'flag', 'username', 'tweet']\n",
        "data = spark.read.csv(path, inferSchema=True, header=False, encoding=\"ISO-8859-1\")\n",
        "data = data.toDF(*column_names)\n",
        "data = data.withColumn(\"target\", col(\"target\").cast(\"double\"))"
      ]
    },
    {
      "cell_type": "markdown",
      "metadata": {
        "id": "e9ZChMVrbMd7"
      },
      "source": [
        "Preprocessing the data by removing anything not containing a-z uppercase or lower case\n",
        "\n",
        "*   split the sentence into words\n",
        "*   removes stopwords\n",
        "*   words to lowercase\n",
        "*   words to base(running to run)\n",
        "\n",
        "\n",
        "\n"
      ]
    },
    {
      "cell_type": "code",
      "source": [
        "stop_words = ['i', 'me', 'my', 'myself', 'we', 'our', 'ours', 'ourselves', 'you', \"you're\", \"you've\", \"you'll\", \"you'd\", 'your', 'yours', 'yourself', 'yourselves', 'he', 'him', 'his', 'himself', 'she', \"she's\", 'her', 'hers', 'herself', 'it', \"it's\", 'its', 'itself', 'they', 'them', 'their', 'theirs', 'themselves', 'what', 'which', 'who', 'whom', 'this', 'that', \"that'll\", 'these', 'those', 'am', 'is', 'are', 'was', 'were', 'be', 'been', 'being', 'have', 'has', 'had', 'having', 'do', 'does', 'did', 'doing', 'a', 'an', 'the', 'and', 'but', 'if', 'or', 'because', 'as', 'until', 'while', 'of', 'at', 'by', 'for', 'with', 'about', 'against', 'between', 'into', 'through', 'during', 'before', 'after', 'above', 'below', 'to', 'from', 'up', 'down', 'in', 'out', 'on', 'off', 'over', 'under', 'again', 'further', 'then', 'once', 'here', 'there', 'when', 'where', 'why', 'how', 'all', 'any', 'both', 'each', 'few', 'more', 'most', 'other', 'some', 'such', 'no', 'nor', 'not', 'only', 'own', 'same', 'so', 'than', 'too', 'very', 's', 't', 'can', 'will', 'just', 'don', \"don't\", 'should', \"should've\", 'now', 'd', 'll', 'm', 'o', 're', 've', 'y', 'ain', 'aren', \"aren't\", 'couldn', \"couldn't\", 'didn', \"didn't\", 'doesn', \"doesn't\", 'hadn', \"hadn't\", 'hasn', \"hasn't\", 'haven', \"haven't\", 'isn', \"isn't\", 'ma', 'mightn', \"mightn't\", 'mustn', \"mustn't\", 'needn', \"needn't\", 'shan', \"shan't\", 'shouldn', \"shouldn't\", 'wasn', \"wasn't\", 'weren', \"weren't\", 'won', \"won't\", 'wouldn', \"wouldn't\"]\n",
        "def preprocess_text(content):\n",
        "    content = re.sub('[^a-zA-Z]', ' ', content).lower().split()\n",
        "    stemmed_words = [word for word in content if word not in stop_words]\n",
        "    return ' '.join(stemmed_words)\n",
        "\n",
        "preprocess_udf = udf(preprocess_text, StringType())"
      ],
      "metadata": {
        "id": "m7egf3T8ny94"
      },
      "execution_count": 13,
      "outputs": []
    },
    {
      "cell_type": "markdown",
      "metadata": {
        "id": "7DsnHo5ybahH"
      },
      "source": [
        "Changing target value of 4 to 1\n",
        "Applying preprocess to dataset"
      ]
    },
    {
      "cell_type": "code",
      "execution_count": 14,
      "metadata": {
        "id": "yfdZoXygQlIE",
        "colab": {
          "base_uri": "https://localhost:8080/"
        },
        "outputId": "82f24036-3449-48e9-a1ca-f2c4b79b1932"
      },
      "outputs": [
        {
          "output_type": "stream",
          "name": "stdout",
          "text": [
            "+------+----------+--------------------+--------+---------------+--------------------+--------------------+\n",
            "|target|        id|                date|    flag|       username|               tweet|         clean_tweet|\n",
            "+------+----------+--------------------+--------+---------------+--------------------+--------------------+\n",
            "|   0.0|1467810369|Mon Apr 06 22:19:...|NO_QUERY|_TheSpecialOne_|@switchfoot http:...|switchfoot http t...|\n",
            "|   0.0|1467810672|Mon Apr 06 22:19:...|NO_QUERY|  scotthamilton|is upset that he ...|upset update face...|\n",
            "|   0.0|1467810917|Mon Apr 06 22:19:...|NO_QUERY|       mattycus|@Kenichan I dived...|kenichan dived ma...|\n",
            "|   0.0|1467811184|Mon Apr 06 22:19:...|NO_QUERY|        ElleCTF|my whole body fee...|whole body feels ...|\n",
            "|   0.0|1467811193|Mon Apr 06 22:19:...|NO_QUERY|         Karoli|@nationwideclass ...|nationwideclass b...|\n",
            "|   0.0|1467811372|Mon Apr 06 22:20:...|NO_QUERY|       joy_wolf|@Kwesidei not the...| kwesidei whole crew|\n",
            "|   0.0|1467811592|Mon Apr 06 22:20:...|NO_QUERY|        mybirch|         Need a hug |            need hug|\n",
            "|   0.0|1467811594|Mon Apr 06 22:20:...|NO_QUERY|           coZZ|@LOLTrish hey  lo...|loltrish hey long...|\n",
            "|   0.0|1467811795|Mon Apr 06 22:20:...|NO_QUERY|2Hood4Hollywood|@Tatiana_K nope t...|      tatiana k nope|\n",
            "|   0.0|1467812025|Mon Apr 06 22:20:...|NO_QUERY|        mimismo|@twittera que me ...|  twittera que muera|\n",
            "+------+----------+--------------------+--------+---------------+--------------------+--------------------+\n",
            "only showing top 10 rows\n",
            "\n"
          ]
        }
      ],
      "source": [
        "data = data.withColumn(\"target\", when(col(\"target\") == 4, 1).otherwise(col(\"target\")))\n",
        "data = data.withColumn(\"clean_tweet\", preprocess_udf(col(\"tweet\")))\n",
        "data.show(10)"
      ]
    },
    {
      "cell_type": "markdown",
      "metadata": {
        "id": "XHmw0Lp6bl7Q"
      },
      "source": [
        "Graphing the Target counts"
      ]
    },
    {
      "cell_type": "code",
      "execution_count": 15,
      "metadata": {
        "id": "y5zmEISRQtrH",
        "colab": {
          "base_uri": "https://localhost:8080/",
          "height": 508
        },
        "outputId": "21642699-18cc-4862-da8a-bb07cf73fbcc"
      },
      "outputs": [
        {
          "output_type": "stream",
          "name": "stdout",
          "text": [
            "Negative count: 800000\n",
            "Positive count: 800000\n"
          ]
        },
        {
          "output_type": "display_data",
          "data": {
            "text/plain": [
              "<Figure size 640x480 with 1 Axes>"
            ],
            "image/png": "[encoded data removed]"
          },
          "metadata": {}
        }
      ],
      "source": [
        "negative_count = data.filter(col(\"target\") == 0).count()\n",
        "positive_count = data.filter(col(\"target\") == 1).count()\n",
        "print(\"Negative count:\", negative_count)\n",
        "print(\"Positive count:\", positive_count)\n",
        "\n",
        "# Plot distribution of negative and positive tweets\n",
        "plt.bar([\"Negative\", \"Positive\"], [negative_count, positive_count])\n",
        "plt.title(\"Distribution of Negative and Positive Tweets\")\n",
        "plt.xlabel(\"Sentiment\")\n",
        "plt.ylabel(\"Count\")\n",
        "plt.show()"
      ]
    },
    {
      "cell_type": "markdown",
      "metadata": {
        "id": "90_KhDQO0U5R"
      },
      "source": [
        "Calculating Postive and Negative Tweets"
      ]
    },
    {
      "cell_type": "code",
      "execution_count": 17,
      "metadata": {
        "id": "OHrvKRyOb-S1",
        "colab": {
          "base_uri": "https://localhost:8080/"
        },
        "outputId": "6520cbce-7eca-4b1c-9093-f9778975c96b"
      },
      "outputs": [
        {
          "output_type": "stream",
          "name": "stdout",
          "text": [
            "+------+----------+--------------------+--------+---------------+--------------------+--------------------+---------+\n",
            "|target|        id|                date|    flag|       username|               tweet|         clean_tweet|sentiment|\n",
            "+------+----------+--------------------+--------+---------------+--------------------+--------------------+---------+\n",
            "|   0.0|1467810369|Mon Apr 06 22:19:...|NO_QUERY|_TheSpecialOne_|@switchfoot http:...|switchfoot http t...|      0.0|\n",
            "|   0.0|1467810672|Mon Apr 06 22:19:...|NO_QUERY|  scotthamilton|is upset that he ...|upset update face...|      0.0|\n",
            "|   0.0|1467810917|Mon Apr 06 22:19:...|NO_QUERY|       mattycus|@Kenichan I dived...|kenichan dived ma...|      0.0|\n",
            "|   0.0|1467811184|Mon Apr 06 22:19:...|NO_QUERY|        ElleCTF|my whole body fee...|whole body feels ...|      0.0|\n",
            "|   0.0|1467811193|Mon Apr 06 22:19:...|NO_QUERY|         Karoli|@nationwideclass ...|nationwideclass b...|      0.0|\n",
            "|   0.0|1467811372|Mon Apr 06 22:20:...|NO_QUERY|       joy_wolf|@Kwesidei not the...| kwesidei whole crew|      0.0|\n",
            "|   0.0|1467811592|Mon Apr 06 22:20:...|NO_QUERY|        mybirch|         Need a hug |            need hug|      1.0|\n",
            "|   0.0|1467811594|Mon Apr 06 22:20:...|NO_QUERY|           coZZ|@LOLTrish hey  lo...|loltrish hey long...|      1.0|\n",
            "|   0.0|1467811795|Mon Apr 06 22:20:...|NO_QUERY|2Hood4Hollywood|@Tatiana_K nope t...|      tatiana k nope|      0.0|\n",
            "|   0.0|1467812025|Mon Apr 06 22:20:...|NO_QUERY|        mimismo|@twittera que me ...|  twittera que muera|      0.0|\n",
            "|   0.0|1467812416|Mon Apr 06 22:20:...|NO_QUERY| erinx3leannexo|spring break in p...|spring break plai...|      0.0|\n",
            "|   0.0|1467812579|Mon Apr 06 22:20:...|NO_QUERY|   pardonlauren|I just re-pierced...|        pierced ears|      0.0|\n",
            "|   0.0|1467812723|Mon Apr 06 22:20:...|NO_QUERY|           TLeC|@caregiving I cou...|caregiving bear w...|      0.0|\n",
            "|   0.0|1467812771|Mon Apr 06 22:20:...|NO_QUERY|robrobbierobert|@octolinz16 It it...|octolinz counts i...|      0.0|\n",
            "|   0.0|1467812784|Mon Apr 06 22:20:...|NO_QUERY|    bayofwolves|@smarrison i woul...|smarrison would f...|      0.0|\n",
            "|   0.0|1467812799|Mon Apr 06 22:20:...|NO_QUERY|     HairByJess|@iamjazzyfizzle I...|iamjazzyfizzle wi...|      0.0|\n",
            "|   0.0|1467812964|Mon Apr 06 22:20:...|NO_QUERY| lovesongwriter|Hollis' death sce...|hollis death scen...|      0.0|\n",
            "|   0.0|1467813137|Mon Apr 06 22:20:...|NO_QUERY|       armotley|about to file taxes |          file taxes|      0.0|\n",
            "|   0.0|1467813579|Mon Apr 06 22:20:...|NO_QUERY|     starkissed|@LettyA ahh ive a...|lettya ahh ive al...|      1.0|\n",
            "|   0.0|1467813782|Mon Apr 06 22:20:...|NO_QUERY|      gi_gi_bee|@FakerPattyPattz ...|fakerpattypattz o...|      0.0|\n",
            "+------+----------+--------------------+--------+---------------+--------------------+--------------------+---------+\n",
            "only showing top 20 rows\n",
            "\n"
          ]
        }
      ],
      "source": [
        "from pyspark.sql.functions import udf, col\n",
        "from pyspark.sql.types import DoubleType\n",
        "\n",
        "# Read positive and negative words into DataFrames\n",
        "positive_words = spark.read.text(\"/content/positive-words.txt\")\n",
        "negative_words = spark.read.text(\"/content/negative-words.txt\")\n",
        "\n",
        "positive_words_list = positive_words.rdd.map(lambda row: row[0]).collect()\n",
        "negative_words_list = negative_words.rdd.map(lambda row: row[0]).collect()\n",
        "\n",
        "def calculate_sentiment(clean_tweet):\n",
        "    words = clean_tweet.split()\n",
        "    # Changed these two lines to fix the error\n",
        "    positive_count = len([word for word in words if word in positive_words_list])\n",
        "    negative_count = len([word for word in words if word in negative_words_list])\n",
        "    total_count = len(words)\n",
        "    if total_count == 0:\n",
        "        return 0.5 #neutral sentiment\n",
        "    positive_prob = positive_count / total_count\n",
        "    negative_prob = negative_count / total_count\n",
        "    if positive_prob > negative_prob:\n",
        "        return 1.0\n",
        "    else:\n",
        "        return 0.0\n",
        "\n",
        "sentiment_udf = udf(calculate_sentiment, DoubleType())\n",
        "\n",
        "data = data.withColumn(\"sentiment\", sentiment_udf(col(\"clean_tweet\")))\n",
        "data.show()"
      ]
    },
    {
      "cell_type": "markdown",
      "metadata": {
        "id": "RCPorn_YbsS_"
      },
      "source": [
        "Applying Logistic Regression Model"
      ]
    },
    {
      "cell_type": "code",
      "source": [
        "from pyspark.ml.feature import CountVectorizer\n",
        "from pyspark.ml.feature import StringIndexer\n",
        "from pyspark.ml.feature import VectorAssembler\n",
        "from pyspark.ml import Pipeline"
      ],
      "metadata": {
        "id": "CGWS92W5s9el"
      },
      "execution_count": 18,
      "outputs": []
    },
    {
      "cell_type": "markdown",
      "source": [
        "Applying Logistic Regression Model"
      ],
      "metadata": {
        "id": "sqmFRLr-dLCu"
      }
    },
    {
      "cell_type": "code",
      "source": [
        "vecAssembler = VectorAssembler(inputCols=['sentiment'], outputCol=\"features\")\n",
        "data = vecAssembler.transform(data)\n",
        "train, test = data.randomSplit([0.7, 0.3], seed=2030)\n",
        "\n",
        "logistic_regression = LogisticRegression(labelCol=\"target\", featuresCol=\"features\")\n",
        "model_lr = logistic_regression.fit(train)\n",
        "\n",
        "predictions_lr = model_lr.transform(test)\n",
        "\n",
        "evaluator_lr = BinaryClassificationEvaluator(labelCol=\"target\", rawPredictionCol=\"prediction\")\n",
        "accuracy_lr = evaluator_lr.evaluate(predictions_lr)\n",
        "print(\"Logistic Regression Test Area Under ROC:\", accuracy_lr)"
      ],
      "metadata": {
        "id": "0q4ug0jx-dso"
      },
      "execution_count": null,
      "outputs": []
    },
    {
      "cell_type": "markdown",
      "metadata": {
        "id": "YCzcrzIpbu7f"
      },
      "source": [
        "Applying the Naive Bayes Model"
      ]
    },
    {
      "cell_type": "code",
      "source": [
        "# Train Naive Bayes model\n",
        "nb = NaiveBayes(smoothing=1.0, modelType=\"multinomial\", labelCol=\"target\")\n",
        "model_nb = nb.fit(train)\n",
        "predictions_nb = model_nb.transform(test)\n",
        "evaluator_nb = BinaryClassificationEvaluator(labelCol=\"target\", rawPredictionCol=\"prediction\")\n",
        "accuracy_nb = evaluator_nb.evaluate(predictions_nb)\n",
        "print(\"Naive Bayes Test Area Under ROC:\", accuracy_nb)"
      ],
      "metadata": {
        "id": "BfKehi2JoRIs"
      },
      "execution_count": null,
      "outputs": []
    },
    {
      "cell_type": "markdown",
      "metadata": {
        "id": "5dayrLkpbyeM"
      },
      "source": [
        "Creating own tweets to predict sentiment"
      ]
    },
    {
      "cell_type": "code",
      "execution_count": null,
      "metadata": {
        "id": "X2gQCmYp4Auu"
      },
      "outputs": [],
      "source": [
        "new_tweets_data = [\n",
        "    (\"I hate him\", 0),\n",
        "    (\"You wouldn't believe what he said to me\", 0),\n",
        "    (\"Two scoop kinda day.\", 1),\n",
        "    (\"I cannot decide if I like or hate this product.\", 0),\n",
        "    (\"Yes\", 1)\n",
        "]\n",
        "\n",
        "new_tweets_df = spark.createDataFrame(new_tweets_data, [\"tweet\", \"sentiment\"])\n",
        "\n",
        "new_tweets_df = new_tweets_df.withColumn(\"clean_tweet\", preprocess_udf(col(\"tweet\")))\n",
        "\n",
        "new_tweets_df = vecAssembler.transform(new_tweets_df)"
      ]
    },
    {
      "cell_type": "markdown",
      "source": [
        "Two models predicted created tweets"
      ],
      "metadata": {
        "id": "OZ68yrWttGps"
      }
    },
    {
      "cell_type": "code",
      "source": [
        "predictions_new_tweets_lr = model_lr.transform(new_tweets_df)\n",
        "predictions_new_tweets_nb = model_nb.transform(new_tweets_df)\n",
        "\n",
        "print(\"Predictions for new tweets using Logistic Regression model:\")\n",
        "predictions_new_tweets_lr.select(\"tweet\", \"prediction\").show()\n",
        "\n",
        "print(\"Predictions for new tweets using Naive Bayes model:\")\n",
        "predictions_new_tweets_nb.select(\"tweet\", \"prediction\").show()"
      ],
      "metadata": {
        "id": "aVuTJuswsLx_"
      },
      "execution_count": null,
      "outputs": []
    }
  ],
  "metadata": {
    "colab": {
      "provenance": [],
      "toc_visible": true,
      "include_colab_link": true
    },
    "kernelspec": {
      "display_name": "Python 3",
      "name": "python3"
    },
    "language_info": {
      "name": "python"
    }
  },
  "nbformat": 4,
  "nbformat_minor": 0
}